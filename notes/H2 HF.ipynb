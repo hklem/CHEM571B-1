{
 "cells": [
  {
   "cell_type": "markdown",
   "metadata": {},
   "source": [
    "# Hartree-Fock Code for the H2 Molecule in a Minimical STO-3G basis\n",
    "\n",
    "1. Setup system - position molecule and define basis\n",
    "2. Define coefficient matrix, $\\mathbf{C}$, and compute density matrix, $\\mathbf{P}$.\n",
    "3. Compute $\\mathbf{S}$, $\\mathbf{H_{core}} = \\mathbf{T} + \\mathbf{V}$ and two-electron integrals.\n",
    "4. Populate the two-electron matrix, $\\mathbf{G}$, and then compute the Fock matrix $\\mathbf{F} = \\mathbf{H_{core}} + \\mathbf{G}$\n",
    "5. Diagonalize $\\mathbf{S}^{-1}\\mathbf{F}$ to obtain orbital energies\n",
    "6. Compute total energy"
   ]
  },
  {
   "cell_type": "code",
   "execution_count": 1,
   "metadata": {},
   "outputs": [],
   "source": [
    "# load some libraries\n",
    "import numpy as np\n",
    "import matplotlib.pyplot as plt\n",
    "%matplotlib inline\n",
    "from scipy import integrate\n",
    "from scipy.special import sph_harm\n",
    "from scipy.special import erf"
   ]
  },
  {
   "cell_type": "markdown",
   "metadata": {},
   "source": [
    "## Subroutines"
   ]
  },
  {
   "cell_type": "markdown",
   "metadata": {},
   "source": [
    "### Basis Function Overlap Calculation\n",
    "\n",
    "For this calculation we are using and STO-3G minimal basis for H2.  This means there are two basis functions of the form\n",
    "\n",
    "$\\phi_i(r) = \\sum_{k=1}^{3} g_{i,k}\\phi^{GF}_{1s}(\\alpha_{i,k},\\mathbf{r}-\\mathbf{R_A})$\n",
    "\n",
    "where $\\mathbf{R_A}$ (typically an atomic nucleus) is the center of the primitive gaussian given by\n",
    "\n",
    "$\\phi^{GF}_{1s}(\\alpha_{i,k},\\mathbf{r}-\\mathbf{R_A}) = \\left(\\frac{2\\alpha_{i,k}}{\\pi}\\right)^{3/4}e^{-\\alpha_{i,k} (\\mathbf{r}-\\mathbf{R_A})^2}$.\n",
    "\n",
    "The basis set overlap integral is given by\n",
    "\n",
    "$S_{ij} = \\langle \\phi_i | \\phi_j \\rangle  = \\langle\\sum_{k=1}^{3} g_{i,k}\\phi^{GF}_{1s}(\\alpha_{i,k},\\mathbf{r}-\\mathbf{R_A}) | \\sum_{l=1}^{3} g_{j,l}\\phi^{GF}_{1s}(\\alpha_{j,l},\\mathbf{r}-\\mathbf{R_B})\\rangle $\n",
    "\n",
    "$ = \\sum_{k,l} g_{i,k}g_{j,l} \\langle \\phi^{GF}_{1s}(\\alpha_{i,k},\\mathbf{r}-\\mathbf{R_A}) | \\phi^{GF}_{1s}(\\alpha_{j,l},\\mathbf{r}-\\mathbf{R_B}) \\rangle $.\n",
    "\n",
    "Thus we must determine the form of the primitive gaussian integral\n",
    "\n",
    "$\\langle \\phi^{GF}_{1s}(\\alpha_{i,k},\\mathbf{r}-\\mathbf{R_A}) | \\phi^{GF}_{1s}(\\alpha_{j,l},\\mathbf{r}-\\mathbf{R_B}) \\rangle  = \\left(\\frac{2}{\\pi}\\right)^{1.5}\\left(\\alpha_{i,k}\\alpha_{j,l}\\right)^{3/4}\\int e^{-\\alpha_{i,k} (\\mathbf{r}-\\mathbf{R_A})^2} e^{-\\alpha_{j,l} (\\mathbf{r}-\\mathbf{R_B})^2} d\\mathbf{r}$\n",
    "\n",
    "The integral on the right-hand side is of the product of two gaussian functions.  Recall that the product of two-gaussians is itself a new gaussian.  Namely:\n",
    "\n",
    "$\\int e^{-\\alpha_{i,k} (\\mathbf{r}-\\mathbf{R_A})^2} e^{-\\alpha_{j,l} (\\mathbf{r}-\\mathbf{R_B})^2} d\\mathbf{r} = K \\int e^{-p(\\mathbf{r}-\\mathbf{R_p})^2}\\mathbf{r}$\n",
    "\n",
    "where K is a constant (known form),\n",
    "\n",
    "$R_p = \\frac{\\alpha_{i,k}\\mathbf{R_A}+\\alpha_{j,l}\\mathbf{R_B}}{\\alpha_{i,k}+\\alpha_{j,l}}$\n",
    "\n",
    "and \n",
    "\n",
    "$ p = \\alpha_{i,k}+\\alpha_{j,l}$.\n",
    "\n",
    "It can be shown that this ultimately yields\n",
    "\n",
    "$\\langle \\phi^{GF}_{1s}(\\alpha_{i,k},\\mathbf{r}-\\mathbf{R_A}) | \\phi^{GF}_{1s}(\\alpha_{j,l},\\mathbf{r}-\\mathbf{R_B}) \\rangle  = \\left(\\alpha_{i,k}\\alpha_{j,l}\\right)^{3/4} \\left( \\frac{2}{\\alpha_{i,k}+\\alpha_{j,l}}\\right)^{1.5}e^{-\\alpha_{i,k}\\alpha_{j,l}/(\\alpha_{i,k}+\\alpha_{j,l})(\\mathbf{R_A}-\\mathbf{R_B})^2}$\n",
    "\n",
    "Thus we get for STO-3G Hydrogen 1s basis:\n",
    "\n",
    "$S_{ij} = \\sum_{k,l} g_{i,k}g_{j,l}\\left(\\alpha_{i,k}\\alpha_{j,l}\\right)^{3/4} \\left( \\frac{2}{\\alpha_{i,k}+\\alpha_{j,l}}\\right)^{1.5}e^{-\\alpha_{i,k}\\alpha_{j,l}/(\\alpha_{i,k}+\\alpha_{j,l})(\\mathbf{R_A}-\\mathbf{R_B})^2}$"
   ]
  },
  {
   "cell_type": "code",
   "execution_count": 84,
   "metadata": {},
   "outputs": [],
   "source": [
    "def basis_overlap(alpha,dA,RA,beta,dB,RB):\n",
    "    overlap = 0.0\n",
    "    for i in range(len(alpha)):\n",
    "        for j in range(len(beta)):\n",
    "            overlap += alpha[i]**0.75*beta[j]**0.75*dA[i]*dB[j]*gaussian_overlap(alpha[i],RA,beta[j],RB)\n",
    "    return overlap*(2.0)**1.5\n",
    "\n",
    "def gaussian_overlap(alpha, RA, beta, RB):\n",
    "    prefactor = ((alpha+beta))**(-1.5)\n",
    "    diff = RA - RB\n",
    "    dist2 = np.dot(diff,diff)\n",
    "    return prefactor*np.exp(-alpha*beta/(alpha+beta)*dist2)    "
   ]
  },
  {
   "cell_type": "markdown",
   "metadata": {},
   "source": [
    "### Kinetic Energy Matrix Elements\n",
    "\n",
    "For the kinetic energy matrix element\n",
    "\n",
    "$T_{ij} = \\langle \\phi_i | -0.5\\nabla^2| \\phi_j \\rangle  = \\langle\\sum_{k=1}^{3} g_{i,k}\\phi^{GF}_{1s}(\\alpha_{i,k},\\mathbf{r}-\\mathbf{R_A}) | -0.5\\nabla^2| \\sum_{l=1}^{3} g_{j,l}\\phi^{GF}_{1s}(\\alpha_{j,l},\\mathbf{r}-\\mathbf{R_B})\\rangle $\n",
    "\n",
    "$ = \\sum_{k,l} -0.5 g_{i,k}g_{j,l}\\langle \\phi^{GF}_{1s}(\\alpha_{i,k},\\mathbf{r}-\\mathbf{R_A}) |\\nabla^2| \\phi^{GF}_{1s}(\\alpha_{j,l},\\mathbf{r}-\\mathbf{R_B}) \\rangle$\n",
    "\n",
    "Thus we examine the primitive gaussian term\n",
    "\n",
    "$\\langle \\phi^{GF}_{1s}(\\alpha_{i,k},\\mathbf{r}-\\mathbf{R_A}) |\\nabla^2| \\phi^{GF}_{1s}(\\alpha_{j,l},\\mathbf{r}-\\mathbf{R_B}) \\rangle = \\left(\\frac{2}{\\pi}\\right)^{1.5}\\left(\\alpha_{i,k}\\alpha_{j,l}\\right)^{3/4} \\int e^{-\\alpha_{i,k} (\\mathbf{r}-\\mathbf{R_A})^2} \\nabla^2 e^{-\\alpha_{j,l} (\\mathbf{r}-\\mathbf{R_B})^2} d\\mathbf{r}$\n",
    "\n",
    "$ = \\left(\\frac{2}{\\pi}\\right)^{1.5}\\left(\\alpha_{i,k}\\alpha_{j,l}\\right)^{3/4}\\frac{\\alpha_{i,k}\\alpha_{j,l}}{\\alpha_{i,k}+\\alpha_{j,l}} \\left[ 3 - 2\\alpha_{i,k}\\alpha_{j,l}/(\\alpha_{i,k}+\\alpha_{j,l}) (\\mathbf{R_A}-\\mathbf{R_B})^2\\right] [\\pi/(\\alpha_{i,k}+\\alpha_{j,l})]^{3/2}e^{-\\alpha_{i,k}\\alpha_{j,l}/(\\alpha_{i,k}+\\alpha_{j,l}) (\\mathbf{R_A}-\\mathbf{R_B})^2}$\n",
    "\n",
    "provided here without derivation.  See Ostlund and Szabo Page 412 for the derivation."
   ]
  },
  {
   "cell_type": "code",
   "execution_count": 33,
   "metadata": {},
   "outputs": [],
   "source": [
    "def basis_kinetic(alpha,dA,RA,beta,dB,RB):\n",
    "    kinetic = 0.0\n",
    "    for i in range(len(alpha)):\n",
    "        for j in range(len(beta)):\n",
    "            kinetic += (alpha[i]*beta[j])**0.75*dA[i]*dB[j]*gaussian_kinetic(alpha[i],RA,beta[j],RB)\n",
    "    return kinetic*(2.0/np.pi)**1.5\n",
    "\n",
    "def gaussian_kinetic(alpha, RA, beta, RB):\n",
    "    AplusB = alpha + beta\n",
    "    diff = RA - RB\n",
    "    dist2 = np.dot(diff,diff)\n",
    "    prefactor = alpha*beta/AplusB*(3-2*alpha*beta/AplusB*dist2)*(np.pi/AplusB)**1.5\n",
    "    return prefactor*np.exp(-alpha*beta/AplusB*dist2)"
   ]
  },
  {
   "cell_type": "code",
   "execution_count": 53,
   "metadata": {},
   "outputs": [],
   "source": [
    "def basis_potential(alpha,dA,RA,beta,dB,RB,Z,R):\n",
    "    potential = 0.0\n",
    "    nAtoms = len(Z)\n",
    "    for atom in range(nAtoms):\n",
    "        for i in range(len(alpha)):\n",
    "            for j in range(len(beta)):\n",
    "                prefactor = -Z[atom]*(2.0/np.pi)**1.5*(alpha[i]*beta[j])**0.75*dA[i]*dB[j]\n",
    "                potential += prefactor*gaussian_potential(alpha[i],RA,beta[j],RB,R[atom,:])\n",
    "    return potential\n",
    "\n",
    "def gaussian_potential(alpha, RA, beta, RB, RC):\n",
    "    AplusB = alpha + beta\n",
    "    RP = (alpha*RA+beta*RB)/AplusB\n",
    "    RPminusRC = RP - RC\n",
    "    RPRC2 = np.dot(RPminusRC,RPminusRC)\n",
    "    RAminusRB = RA - RB\n",
    "    RARB2 = np.dot(RAminusRB,RAminusRB)\n",
    "    if (RPRC2 == 0 and RARB2 ==0):\n",
    "        return 2.0*np.pi/AplusB\n",
    "    else:\n",
    "        t = np.sqrt(AplusB*RPRC2)\n",
    "        prefactor = 2.0*np.pi*0.5/AplusB*np.sqrt(np.pi)/t*erf(t)\n",
    "        return prefactor*np.exp(-alpha*beta/AplusB*RARB2)"
   ]
  },
  {
   "cell_type": "code",
   "execution_count": 66,
   "metadata": {},
   "outputs": [],
   "source": [
    "# two electron integrals\n",
    "def basis_2e(alpha,dA,RA,beta,dB,RB,gamma,dC,RC,delta,dD,RD):\n",
    "    twoE = 0.0\n",
    "    for i in range(len(alpha)):\n",
    "        for j in range(len(beta)):\n",
    "            for k in range(len(gamma)):\n",
    "                for l in range(len(delta)):\n",
    "                    prefactor = (alpha[i]*beta[j]*gamma[k]*delta[l])**0.75*dA[i]*dB[j]*dC[k]*dD[l]\n",
    "                    twoE += prefactor*gaussian_2e(alpha[i],RA,beta[j],RB,gamma[k],RC,delta[l],RD)\n",
    "    return twoE*(2.0/np.pi)**3  \n",
    "\n",
    "def gaussian_2e(alpha,RA,beta,RB,gamma,RC,delta,RD):\n",
    "    AplusB = alpha + beta\n",
    "    # weighted average of RA and RB\n",
    "    RP = (alpha*RA+beta*RB)/AplusB\n",
    "    GplusD = gamma + delta\n",
    "    # weighted average of RC and RD\n",
    "    RQ = (gamma*RC+delta*RD)/GplusD\n",
    "    RAminusRB = RA - RB\n",
    "    RARB2 = np.dot(RAminusRB,RAminusRB)\n",
    "    RCminusRD = RC - RD\n",
    "    RCRD2 = np.dot(RCminusRD,RCminusRD)\n",
    "    RPminusRQ = RP - RQ\n",
    "    RPRQ2 = np.dot(RPminusRQ,RPminusRQ)\n",
    "    denom = AplusB*GplusD*np.sqrt(AplusB+GplusD)\n",
    "    prefactor = 2.0*np.pi**2.5/denom\n",
    "    t = np.sqrt(AplusB*GplusD/(AplusB+GplusD)*RPRQ2)\n",
    "    if (RPRQ2 !=0):\n",
    "        prefactor *= 0.5*np.sqrt(np.pi)/t*erf(t)\n",
    "    return prefactor*np.exp( -alpha*beta/AplusB*RARB2 - gamma*delta/GplusD*RCRD2)\n",
    "    "
   ]
  },
  {
   "cell_type": "code",
   "execution_count": 72,
   "metadata": {},
   "outputs": [],
   "source": [
    "def constructDensityMat(C):\n",
    "    M = C.shape[0]\n",
    "    P = np.zeros((M,M),dtype=float)\n",
    "    for i in range(M):\n",
    "        for j in range(i,M):\n",
    "            for a in range(M/2):\n",
    "                P[i,j] += C[i,a]*C[j,a]\n",
    "            P[i,j] *= 2.0\n",
    "            P[j,i] = P[i,j]\n",
    "    return P"
   ]
  },
  {
   "cell_type": "markdown",
   "metadata": {},
   "source": [
    "## Main Program"
   ]
  },
  {
   "cell_type": "code",
   "execution_count": 37,
   "metadata": {},
   "outputs": [],
   "source": [
    "# define some system parameters\n",
    "Z = np.array([1,1])    # nuclear charge in electron charge units\n",
    "M = 2                  # number of basis functions"
   ]
  },
  {
   "cell_type": "code",
   "execution_count": 87,
   "metadata": {},
   "outputs": [],
   "source": [
    "# set STO-3G basis for zeta = 1.24\n",
    "alpha = np.array([0.168856,0.623913,3.42525])\n",
    "d = np.array([0.444635,0.535328,0.154329])\n",
    "R = np.empty((2,3),dtype=float)\n",
    "R[0,0] = R[0,1] = R[0,2] = 0.0\n",
    "R[1,0] = 1.4\n",
    "R[1,1] = R[1,2] = 0.0"
   ]
  },
  {
   "cell_type": "code",
   "execution_count": 86,
   "metadata": {},
   "outputs": [
    {
     "name": "stdout",
     "output_type": "stream",
     "text": [
      "[[0.60265682 0.60265682]\n",
      " [0.60265682 0.60265682]]\n"
     ]
    }
   ],
   "source": [
    "# basis set coefficient matrix\n",
    "C = np.empty((M,M),dtype=float)\n",
    "# in this case we know the answer so can set it to be\n",
    "C[0,0] = 1.0/np.sqrt(2*(1+S[0,1]))\n",
    "C[0,1] = 1.0/np.sqrt(2*(1-S[0,1]))\n",
    "C[1,0] = C[0,0]\n",
    "C[1,1] = -C[0,1]\n",
    "P = constructDensityMat(C)\n",
    "print(P)"
   ]
  },
  {
   "cell_type": "code",
   "execution_count": 85,
   "metadata": {},
   "outputs": [
    {
     "name": "stdout",
     "output_type": "stream",
     "text": [
      "[[1.00000134 0.65931916]\n",
      " [0.65931916 1.00000134]]\n"
     ]
    }
   ],
   "source": [
    "# compute S, the overlap matrix\n",
    "S = np.empty((M,M),dtype=float)\n",
    "for i in range(M):\n",
    "    for j in range(M):\n",
    "        S[i,j] = basis_overlap(alpha,d,R[i,:],alpha,d,R[j,:])\n",
    "Sinv = np.linalg.inv(S)\n",
    "print S"
   ]
  },
  {
   "cell_type": "code",
   "execution_count": 34,
   "metadata": {},
   "outputs": [
    {
     "name": "stdout",
     "output_type": "stream",
     "text": [
      "[[0.76003235 0.23645527]\n",
      " [0.23645527 0.76003235]]\n"
     ]
    }
   ],
   "source": [
    "# compute T, the kinetic energy matrix\n",
    "T = np.empty((M,M),dtype=float)\n",
    "for i in range(M):\n",
    "    for j in range(M):\n",
    "        T[i,j] = basis_kinetic(alpha,d,R[i,:],alpha,d,R[j,:])\n",
    "print T"
   ]
  },
  {
   "cell_type": "code",
   "execution_count": 56,
   "metadata": {},
   "outputs": [
    {
     "name": "stdout",
     "output_type": "stream",
     "text": [
      "[[-1.88044303 -1.19483649]\n",
      " [-1.19483649 -1.88044303]]\n"
     ]
    }
   ],
   "source": [
    "# compute V, the potential energy matrix\n",
    "V = np.empty((M,M),dtype=float)\n",
    "for i in range(M):\n",
    "    for j in range(M):\n",
    "        V[i,j] = basis_potential(alpha,d,R[i,:],alpha,d,R[j,:],Z,R)\n",
    "print V"
   ]
  },
  {
   "cell_type": "code",
   "execution_count": 68,
   "metadata": {},
   "outputs": [
    {
     "name": "stdout",
     "output_type": "stream",
     "text": [
      "[[-1.12041067 -0.95838123]\n",
      " [-0.95838123 -1.12041067]]\n"
     ]
    }
   ],
   "source": [
    "# save H-core\n",
    "Hcore = T + V\n",
    "print Hcore"
   ]
  },
  {
   "cell_type": "code",
   "execution_count": 69,
   "metadata": {},
   "outputs": [
    {
     "name": "stdout",
     "output_type": "stream",
     "text": [
      "< 1 1 |1/r12| 1 1 >= 0.7746079055149173\n",
      "< 1 1 |1/r12| 1 2 >= 0.44410895821293\n",
      "< 1 1 |1/r12| 2 1 >= 0.44410895821292995\n",
      "< 1 1 |1/r12| 2 2 >= 0.5696774985883132\n",
      "< 1 2 |1/r12| 1 1 >= 0.4441089582129298\n",
      "< 1 2 |1/r12| 1 2 >= 0.29702949599279366\n",
      "< 1 2 |1/r12| 2 1 >= 0.2970294959927937\n",
      "< 1 2 |1/r12| 2 2 >= 0.4441089582129301\n",
      "< 2 1 |1/r12| 1 1 >= 0.4441089582129301\n",
      "< 2 1 |1/r12| 1 2 >= 0.29702949599279366\n",
      "< 2 1 |1/r12| 2 1 >= 0.29702949599279366\n",
      "< 2 1 |1/r12| 2 2 >= 0.4441089582129298\n",
      "< 2 2 |1/r12| 1 1 >= 0.5696774985883132\n",
      "< 2 2 |1/r12| 1 2 >= 0.44410895821292995\n",
      "< 2 2 |1/r12| 2 1 >= 0.44410895821293\n",
      "< 2 2 |1/r12| 2 2 >= 0.7746079055149173\n"
     ]
    }
   ],
   "source": [
    "# Compute and save all two-electron integrals\n",
    "twoE = np.empty((M,M,M,M),dtype=float)\n",
    "for i in range(M):\n",
    "    for j in range(M):\n",
    "        for k in range(M):\n",
    "            for l in range(M):\n",
    "                twoE[i,j,k,l] = basis_2e(alpha,d,R[i,:],alpha,d,R[j,:],alpha,d,R[k,:],alpha,d,R[l,:])\n",
    "                print \"<\",i+1,j+1,\"|1/r12|\",k+1,l+1,\">=\",twoE[i,j,k,l]"
   ]
  },
  {
   "cell_type": "code",
   "execution_count": 77,
   "metadata": {},
   "outputs": [
    {
     "name": "stdout",
     "output_type": "stream",
     "text": [
      "[[0.75487326 0.36449555]\n",
      " [0.36449555 0.75487326]]\n"
     ]
    }
   ],
   "source": [
    "# populate G matrix using two-electron integrals and density matrix\n",
    "G = np.zeros((M,M),dtype=float)\n",
    "\n",
    "for i in range(M):\n",
    "    for j in range(M):\n",
    "        G[i,j] = 0.0\n",
    "        for k in range(M):\n",
    "            for l in range(M):\n",
    "                G[i,j] += P[k,l]*(twoE[i,j,l,k]-0.5*twoE[i,k,l,j])\n",
    "print G"
   ]
  },
  {
   "cell_type": "code",
   "execution_count": 80,
   "metadata": {},
   "outputs": [
    {
     "name": "stdout",
     "output_type": "stream",
     "text": [
      "[-0.5782024   0.67026769]\n"
     ]
    }
   ],
   "source": [
    "F = Hcore + G\n",
    "\n",
    "e,v = np.linalg.eig(np.dot(Sinv,F))\n",
    "\n",
    "print e"
   ]
  },
  {
   "cell_type": "code",
   "execution_count": 83,
   "metadata": {},
   "outputs": [
    {
     "name": "stdout",
     "output_type": "stream",
     "text": [
      "Ground-state Electronic Energy: -1.8310009691491826\n",
      "Ground-state Total Energy: -1.1167152548634682\n"
     ]
    }
   ],
   "source": [
    "Etotal = 0.0\n",
    "\n",
    "for i in range(M):\n",
    "    for j in range(M):\n",
    "        Etotal += P[i,j]*(Hcore[i,j]+F[i,j])\n",
    "Etotal*=0.5\n",
    "print \"Ground-state Electronic Energy:\",Etotal\n",
    "Etotal += 1/R[1,0]\n",
    "print \"Ground-state Total Energy:\",Etotal"
   ]
  },
  {
   "cell_type": "code",
   "execution_count": null,
   "metadata": {},
   "outputs": [],
   "source": []
  }
 ],
 "metadata": {
  "kernelspec": {
   "display_name": "Python 3",
   "language": "python",
   "name": "python3"
  },
  "language_info": {
   "codemirror_mode": {
    "name": "ipython",
    "version": 2
   },
   "file_extension": ".py",
   "mimetype": "text/x-python",
   "name": "python",
   "nbconvert_exporter": "python",
   "pygments_lexer": "ipython2",
   "version": "2.7.14"
  }
 },
 "nbformat": 4,
 "nbformat_minor": 2
}
